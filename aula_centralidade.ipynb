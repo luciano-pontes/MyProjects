{
 "cells": [
  {
   "cell_type": "markdown",
   "metadata": {
    "toc": true
   },
   "source": [
    "# Data Science\n",
    "<!--<h1>Table of Contents<span class=\"tocSkip\"></span></h1>\n",
    "<div class=\"toc\"><ul class=\"toc-item\"><li><span><a href=\"#Data-Scientist-ou-Cientista-de-Dados\" data-toc-modified-id=\"Data-Scientist-ou-Cientista-de-Dados-1\"><span class=\"toc-item-num\">1&nbsp;&nbsp;</span>Data Scientist ou Cientista de Dados</a></span></li><li><span><a href=\"#O-que-é-Ciência?\" data-toc-modified-id=\"O-que-é-Ciência?-2\"><span class=\"toc-item-num\">2&nbsp;&nbsp;</span>O que é Ciência?</a></span></li><li><span><a href=\"#Método-Científico\" data-toc-modified-id=\"Método-Científico-3\"><span class=\"toc-item-num\">3&nbsp;&nbsp;</span>Método Científico</a></span></li><li><span><a href=\"#Estatística\" data-toc-modified-id=\"Estatística-4\"><span class=\"toc-item-num\">4&nbsp;&nbsp;</span>Estatística</a></span><ul class=\"toc-item\"><li><span><a href=\"#História-da-Estatística\" data-toc-modified-id=\"História-da-Estatística-4.1\"><span class=\"toc-item-num\">4.1&nbsp;&nbsp;</span>História da Estatística</a></span></li></ul></li><li><span><a href=\"#O-que-é-Análise-exploratória-de-Dados?\" data-toc-modified-id=\"O-que-é-Análise-exploratória-de-Dados?-5\"><span class=\"toc-item-num\">5&nbsp;&nbsp;</span>O que é Análise exploratória de Dados?</a></span><ul class=\"toc-item\"><li><span><a href=\"#Etapas\" data-toc-modified-id=\"Etapas-5.1\"><span class=\"toc-item-num\">5.1&nbsp;&nbsp;</span>Etapas</a></span></li><li><span><a href=\"#Problema:\" data-toc-modified-id=\"Problema:-5.2\"><span class=\"toc-item-num\">5.2&nbsp;&nbsp;</span>Problema:</a></span></li></ul></li><li><span><a href=\"#ANACONDA\" data-toc-modified-id=\"ANACONDA-6\"><span class=\"toc-item-num\">6&nbsp;&nbsp;</span>ANACONDA</a></span></li><li><span><a href=\"#JUPYTER\" data-toc-modified-id=\"JUPYTER-7\"><span class=\"toc-item-num\">7&nbsp;&nbsp;</span>JUPYTER</a></span></li><li><span><a href=\"#GIT\" data-toc-modified-id=\"GIT-8\"><span class=\"toc-item-num\">8&nbsp;&nbsp;</span>GIT</a></span></li><li><span><a href=\"#Abrindo-o-arquivo-e-acessando-os-dados\" data-toc-modified-id=\"Abrindo-o-arquivo-e-acessando-os-dados-9\"><span class=\"toc-item-num\">9&nbsp;&nbsp;</span>Abrindo o arquivo e acessando os dados</a></span></li><li><span><a href=\"#Medidas-de-Centralidade\" data-toc-modified-id=\"Medidas-de-Centralidade-10\"><span class=\"toc-item-num\">10&nbsp;&nbsp;</span>Medidas de Centralidade</a></span><ul class=\"toc-item\"><li><span><a href=\"#Média\" data-toc-modified-id=\"Média-10.1\"><span class=\"toc-item-num\">10.1&nbsp;&nbsp;</span>Média</a></span></li><li><span><a href=\"#Fazendo-a-média-com-nosso-arquivo-original\" data-toc-modified-id=\"Fazendo-a-média-com-nosso-arquivo-original-10.2\"><span class=\"toc-item-num\">10.2&nbsp;&nbsp;</span>Fazendo a média com nosso arquivo original</a></span></li><li><span><a href=\"#Calculando-a-média-de-Salário,-anos-de-estudo-e-idade-no-mesmo-código.\" data-toc-modified-id=\"Calculando-a-média-de-Salário,-anos-de-estudo-e-idade-no-mesmo-código.-10.3\"><span class=\"toc-item-num\">10.3&nbsp;&nbsp;</span>Calculando a média de Salário, anos de estudo e idade no mesmo código.</a></span></li><li><span><a href=\"#VAMOS-RESOLVER?\" data-toc-modified-id=\"VAMOS-RESOLVER?-10.4\"><span class=\"toc-item-num\">10.4&nbsp;&nbsp;</span>VAMOS RESOLVER?</a></span></li><li><span><a href=\"#Uma-segunda-opção-para-resolver-os-zeros\" data-toc-modified-id=\"Uma-segunda-opção-para-resolver-os-zeros-10.5\"><span class=\"toc-item-num\">10.5&nbsp;&nbsp;</span>Uma segunda opção para resolver os zeros</a></span></li><li><span><a href=\"#Aprendendo-a-trabalhar-com-dicionários-em-Python\" data-toc-modified-id=\"Aprendendo-a-trabalhar-com-dicionários-em-Python-10.6\"><span class=\"toc-item-num\">10.6&nbsp;&nbsp;</span>Aprendendo a trabalhar com dicionários em Python</a></span><ul class=\"toc-item\"><li><span><a href=\"#Criando-a-tabela-como-um-dicionario\" data-toc-modified-id=\"Criando-a-tabela-como-um-dicionario-10.6.1\"><span class=\"toc-item-num\">10.6.1&nbsp;&nbsp;</span>Criando a tabela como um dicionario</a></span></li><li><span><a href=\"#Criando-um-histograma\" data-toc-modified-id=\"Criando-um-histograma-10.6.2\"><span class=\"toc-item-num\">10.6.2&nbsp;&nbsp;</span>Criando um histograma</a></span></li></ul></li><li><span><a href=\"#Agora-vamos-ordenar-as-observações-por-'valor'-(quantidade-de-pessoas-com-determinada-idade)\" data-toc-modified-id=\"Agora-vamos-ordenar-as-observações-por-'valor'-(quantidade-de-pessoas-com-determinada-idade)-10.7\"><span class=\"toc-item-num\">10.7&nbsp;&nbsp;</span>Agora vamos ordenar as observações por 'valor' (quantidade de pessoas com determinada idade)</a></span></li><li><span><a href=\"#Mediana\" data-toc-modified-id=\"Mediana-10.8\"><span class=\"toc-item-num\">10.8&nbsp;&nbsp;</span>Mediana</a></span></li><li><span><a href=\"#Definindo-uma-função-para-calcular-a-Mediana\" data-toc-modified-id=\"Definindo-uma-função-para-calcular-a-Mediana-10.9\"><span class=\"toc-item-num\">10.9&nbsp;&nbsp;</span>Definindo uma função para calcular a Mediana</a></span></li><li><span><a href=\"#Aplicando-para-as-idades-do-nosso-DataSet\" data-toc-modified-id=\"Aplicando-para-as-idades-do-nosso-DataSet-10.10\"><span class=\"toc-item-num\">10.10&nbsp;&nbsp;</span>Aplicando para as idades do nosso DataSet</a></span></li><li><span><a href=\"#Moda\" data-toc-modified-id=\"Moda-10.11\"><span class=\"toc-item-num\">10.11&nbsp;&nbsp;</span>Moda</a></span></li><li><span><a href=\"#Calculando-a-moda\" data-toc-modified-id=\"Calculando-a-moda-10.12\"><span class=\"toc-item-num\">10.12&nbsp;&nbsp;</span>Calculando a moda</a></span></li><li><span><a href=\"#Vamos-criar-uma-função-para-procurar-a-pessoa-mais-velha-da-base\" data-toc-modified-id=\"Vamos-criar-uma-função-para-procurar-a-pessoa-mais-velha-da-base-10.13\"><span class=\"toc-item-num\">10.13&nbsp;&nbsp;</span>Vamos criar uma função para procurar a pessoa mais velha da base</a></span></li><li><span><a href=\"#Como-criar-uma-função-para-procurar-a-pessoa-mais-nova-da-base?\" data-toc-modified-id=\"Como-criar-uma-função-para-procurar-a-pessoa-mais-nova-da-base?-10.14\"><span class=\"toc-item-num\">10.14&nbsp;&nbsp;</span>Como criar uma função para procurar a pessoa mais nova da base?</a></span></li></ul></li><li><span><a href=\"#Prévia-da-resposta-para-o-nosso-problema.-Os-homens-ganham-mais-do-que-as-mulheres?-Quanto?\" data-toc-modified-id=\"Prévia-da-resposta-para-o-nosso-problema.-Os-homens-ganham-mais-do-que-as-mulheres?-Quanto?-11\"><span class=\"toc-item-num\">11&nbsp;&nbsp;</span>Prévia da resposta para o nosso problema. Os homens ganham mais do que as mulheres? Quanto?</a></span></li></ul></div>-->"
   ]
  },
  {
   "cell_type": "markdown",
   "metadata": {},
   "source": [
    "# Introdução ao Data Science\n",
    "\n",
    "Data Science é o estudo disciplinado dos dados e informações inerentes ao negócio e todas as visões que podem cercar um determinado assunto. É uma ciência que estuda as informações, seu processo de captura, transformação, geração e, posteriormente, análise de dados. A ciência de dados envolve diversas disciplinas:\n",
    "\n",
    "- Computação;\n",
    "- Estatística;\n",
    "- Conhecimento do Negócio.\n",
    "\n",
    "<br>\n",
    "<img src=\"img/processo_datascience.png\" width=\"600\">\n",
    "<br>"
   ]
  },
  {
   "cell_type": "markdown",
   "metadata": {},
   "source": [
    "## Data Scientist ou Cientista de Dados\n",
    "\n",
    "O cientista de dados é um profissional multidisciplinar, responsável por realizar o processo citado no tópico Data Science acima. Ou seja, é responsável por transformar dados em informações ou produtos de informações dentro de uma corporação.\n",
    "\n",
    "Além disso, ele também deve ser responsável pela formulação dos problemas, escolha de modelos de simulação e estatística e entrega dos produtos de dados.\n"
   ]
  },
  {
   "cell_type": "markdown",
   "metadata": {},
   "source": [
    "___"
   ]
  },
  {
   "cell_type": "markdown",
   "metadata": {},
   "source": [
    "## O que é Ciência?\n",
    "\n",
    "Ciência representa todo o conhecimento adquirido através do estudo, pesquisa ou da prática, baseado em princípios certos. Esta palavra deriva do latim scientia, cujo significado é \"conhecimento\" ou \"saber\".\n",
    "\n",
    "Em geral, a ciência, que é muito ampla, comporta vários conjuntos de saberes nos quais são elaboradas as suas teorias baseadas nos seus próprios métodos e pesquisas científicas.\n",
    "\n",
    "A palavra ciência possui vários sentidos, abrangendo principalmente três acepções:\n",
    "\n",
    "- Saber, conhecimento de certas coisas que servem à condução da vida ou à dos negócios.\n",
    "- Conjunto dos conhecimentos adquiridos pelo estudo ou pela prática.\n",
    "- Hierarquização, organização e síntese dos conhecimentos através de modelos e princípios gerais (teorias, leis, etc.).\n",
    "\n",
    "Cita-se de passagem que o próprio conceito de teoria tem várias acepções não específicas que mostram-se muito distintas da que é encontrada em um meio científico, sendo entre estas certamente conhecida a acepção em senso comum de teoria como algo duvidoso, não provado, descartável. Esta acepção e correlatas mostram-se contudo radicalmente diferente da acepção de teoria científica ao considerar-se a acepção stricto sensu da palavra ciência.\n"
   ]
  },
  {
   "cell_type": "markdown",
   "metadata": {},
   "source": [
    "## Método Científico\n",
    "\n",
    "O método científico refere-se a um aglomerado de regras básicas dos procedimentos que produzem o conhecimento científico, quer um novo conhecimento, quer uma correção (evolução) ou um aumento na área de incidência de conhecimentos anteriormente existentes. Na maioria das disciplinas científicas consiste em juntar evidências empíricas verificáveis — baseadas na observação sistemática e controlada, geralmente resultantes de experiências ou pesquisa de campo — e analisá-las com o uso da lógica. Para muitos autores, o método científico nada mais é do que a lógica aplicada à ciência. Os métodos que fornecem as bases lógicas ao conhecimento científico são: método indutivo, método dedutivo, método hipotético-dedutivo, método dialético, método fenomenológico, etc. \n",
    "\n",
    "Leia mais em [Wikipedia](https://pt.wikipedia.org/wiki/M%C3%A9todo_cient%C3%ADfico) ou [Mettzer](https://blog.mettzer.com/o-que-e-metodo-cientifico/)\n",
    "\n",
    "<br>\n",
    "<!--<img src=\"img/metodo_cientifico.png\" width=\"600\">-->\n",
    "<img src=\"img/metodos_cientificos.jpg\" width=\"600\">\n",
    "\n",
    "<img src=\"img/metodo-cientifico2.jpg\" width=\"600\">\n",
    "<br>"
   ]
  },
  {
   "cell_type": "code",
   "execution_count": null,
   "metadata": {},
   "outputs": [],
   "source": [
    "from IPython.display import HTML\n",
    "\n",
    "HTML('<iframe width=\"560\" height=\"315\" src=\"https://www.youtube.com/embed/q40uPdnyhp0\" frameborder=\"0\" allow=\"accelerometer; autoplay; encrypted-media; gyroscope; picture-in-picture\" allowfullscreen></iframe>')"
   ]
  },
  {
   "cell_type": "markdown",
   "metadata": {},
   "source": [
    "___"
   ]
  },
  {
   "cell_type": "markdown",
   "metadata": {},
   "source": [
    "## Estatística\n",
    "\n",
    "Estatística é a ciência que se utiliza das teorias probabilísticas para explicar a frequência da ocorrência de eventos, tanto em estudos observacionais quanto em experimentos para modelar a aleatoriedade e a incerteza de forma a estimar ou possibilitar a previsão de fenômenos futuros, conforme o caso.\n",
    "\n",
    "A estatística é uma ciência que se dedica à coleta, análise e interpretação de dados. Preocupa-se com os métodos de recolha, organização, resumo, apresentação e interpretação dos dados, assim como tirar conclusões sobre as características das fontes donde estes foram retirados, para melhor compreender as situações.\n",
    "\n",
    "Algumas práticas estatísticas incluem, por exemplo, o planejamento, a sumarização e a interpretação de observações. Dado que o objetivo da estatística é a produção da melhor informação possível a partir dos dados disponíveis, alguns autores sugerem que a estatística é um ramo da teoria da decisão\n",
    "\n",
    "Leia mais em [Wikipedia](https://pt.wikipedia.org/wiki/Estat%C3%ADstica)"
   ]
  },
  {
   "cell_type": "markdown",
   "metadata": {},
   "source": [
    "### História da Estatística\n",
    "\n",
    "De acordo com a Revista do Instituto Internacional de Estatística, Cinco homens, Hermann Conring, Gottfried Achenwall, Johann Peter Süssmilch, John Graunt e William Petty já receberam a honra de serem chamados de fundadores da estatística por diferentes autores.\n",
    "\n",
    "Alguns autores dizem que é comum encontrar como marco inicial da estatística a publicação do \"Observations on the Bills of Mortality\" (Observações sobre os Censos de Mortalidade, 1662) de John Graunt. As primeiras aplicações do pensamento estatístico estavam voltadas para as necessidades de Estado, na formulação de políticas públicas, fornecendo dados demográficos e econômicos. A abrangência da estatística aumentou no começo do século XIX para incluir a acumulação e análise de dados de maneira geral. Hoje, a estatística é largamente aplicada nas ciências naturais, e sociais, inclusive na administração pública e privada. \n",
    "\n",
    "<br>\n",
    "<img src=\"https://upload.wikimedia.org/wikipedia/commons/thumb/d/d2/Graunt_-_Natural_and_political_observations%2C_1676_-_204.tif/lossy-page1-800px-Graunt_-_Natural_and_political_observations%2C_1676_-_204.tif.jpg\" width=\"200\">\n",
    "<br>\n",
    "\n",
    "Seus fundamentos matemáticos foram postos no século XVII com o desenvolvimento da teoria das probabilidades por Pascal e Fermat, que surgiu com o estudo dos jogos de azar. O método dos mínimos quadrados foi descrito pela primeira vez por Carl Friedrich Gauss, aproximadamente no ano de 1794. O uso de computadores modernos tem permitido a computação de dados estatísticos em larga escala e também tornaram possível novos métodos antes impraticáveis. \n",
    "\n",
    "Porém, Galton foi o precursos de teorias que foram inicilamente chamadas de \"regressão à média\", resultante do estudo sobre as alturas das pessoas, que permitiu concluir que filhos de pais muito altos tendem a ser mais baixos que seus pais, e filhos de pais muito baixos tendem a ser mais altos, fazendo com que a estatura humana se afaste dos extremos e se aproxime da média, derivando a uma medida matemática chamada de \"coeficiente de correlação\", depois consagrado por Pearson e que foi capaz de mudar a ciência.\n",
    "\n",
    "Através de seus estudos de medição, Galton também foi capaz de verificar o comportamento da distribuição dos valores de uma variável qualquer com resultados aleatórios, verificando desvios entre valores observados e previstos, cujos ERROS ou pequenos desvios apresentavam-se numa distribuição por uma \"curva em forma de sino\", descritas por uma função matemática, com quatro parâmetros principais:\n",
    "\n",
    "1. Média - valor central a partir do qual as medições se dispersam\n",
    "2. Desvio Padrão - o quanto a maioria das medições se dispersa em torno da mádia\n",
    "3. Simetria - o grau em que as medições se acumulam am apenas um lado da média\n",
    "4. Curtose - o quanto as medições raras se afastam da média\n",
    "\n",
    "Como exemplos comprobatórios, temos as leis de Kepler que descreviam o movimento dos planetas no espaço, e as experiências de Harvey sobre como o sangue percorre as veias e artérias de um animal. Este fato foi o que posteriormente Pearson tratou como fenômenos observáveis com meros reflexos aleatórios, cujos quatro parâmetros mencionados poderiam ser determinados por investigação científica, sendo possível estimá-los por meio de dados.\n",
    "\n",
    "<br>\n",
    "<img src=\"img/educacao_estatistica.png\" width=\"600\">\n",
    "<br>"
   ]
  },
  {
   "cell_type": "markdown",
   "metadata": {},
   "source": [
    "___"
   ]
  },
  {
   "cell_type": "markdown",
   "metadata": {},
   "source": [
    "# Análise exploratória de dados\n",
    "\n",
    "<br>\n",
    "<img src=\"img/EDA.jpg\">\n",
    "<br>\n"
   ]
  },
  {
   "cell_type": "markdown",
   "metadata": {},
   "source": [
    "## O que é Análise exploratória de Dados?\n",
    "\n",
    "Em estatística, a **análise exploratória de dados (AED ou EDA em inglês)** é uma abordagem à análise de conjuntos de dados de modo a resumir suas características principais, frequentemente com métodos visuais. Um modelo estatístico pode ou não ser usado, mas primariamente a AED tem como objetivo observar o que os dados podem nos dizer além da modelagem formal ou do processo de teste de hipóteses. A análise exploratória de dados foi promovida pelo estatístico norte-americano John Tukey, que incentivava os estatísticos a explorar os dados e possivelmente formular hipóteses que poderiam levar a novas coletas de dados e experimentos. A **AED** é diferente da análise inicial de dados (AID), que se concentra mais estreitamente em verificar os pressupostos exigidos para ajuste de modelos e teste de hipóteses, além de manusear valores faltantes e fazer transformações de variáveis conforme necessário. A análise exploratória de dados abrange a AID.\n",
    "\n",
    "A análise exploratória de dados emprega grande variedade de técnicas gráficas e quantitativas, visando maximizar a obtenção de informações ocultas na sua estrutura, descobrir variáveis importantes em suas tendências, detectar comportamentos anômalos do fenômeno, testar se são válidas as hipóteses assumidas, escolher modelos e determinar o número ótimo de variáveis.\n",
    "\n",
    "Os softwares atualmente disponíveis possibilitam que esta técnica se constitua em uma ferramenta para descobrir quais tendências, relações e padrões podem estar ocultos em uma coleção de dados analisados. Seguindo as diretrizes propostas por Tukey, os investigadores deveriam iniciar sua análise pelo exame dos dados disponíveis e depois decidir qual técnica aplicar para resolver o problema. "
   ]
  },
  {
   "cell_type": "markdown",
   "metadata": {},
   "source": [
    "### Etapas\n",
    "\n",
    "Existem vários frameworks diferentes com essas etapas, e certamenta alguns funcionam melhor que outros dependendo do problema enfrentado. Até mesmo as perguntas mais elementares como \"Entendendo o Problema\" pode ser que não exista em algum caso especifico, então usem como um guia, não como a verdade.\n",
    "\n",
    "Etapas básicas:\n",
    "\n",
    "1. **Entendendo o Problema**. De longe a etapa mais importante e potêncialmente a mais dificil do problema\n",
    "    \n",
    "2. **Entendendo os Dados**. Na aula de hoje focaremos nesta etapa. Faremos um overview sobre os dados e analisaremos as medidas de centralidade.\n",
    "    \n",
    "3. **Analise Univariada**. Na próxima aula iremos um pouco além, entendendo mais a fundo as estatisticas descritivas dos dados.\n",
    "    \n",
    "4. **Outliers, Nulos e outros**. Nessa etapa, trataremos os dados para que façam sentido para os nossos algoritmos.\n",
    "    \n",
    "5. **Analise Multivariada**. Aqui vamos entender como as variaveis estão relacionadas entre si.\n",
    "    \n",
    "6. **Inferências e Relações Causais**. Por último vamos responder nossa pergunta\n"
   ]
  },
  {
   "cell_type": "markdown",
   "metadata": {},
   "source": [
    "<br>\n",
    "<img src=\"img/EDA.png\">\n",
    "<br>"
   ]
  },
  {
   "cell_type": "markdown",
   "metadata": {},
   "source": [
    "___"
   ]
  },
  {
   "cell_type": "markdown",
   "metadata": {},
   "source": [
    "# Ferramentas\n",
    "\n",
    "## Python\n",
    "*fonte: Wikipédia*\n",
    "\n",
    "<br>\n",
    "<img src=\"img/python.png\">\n",
    "<br>\n",
    "\n",
    "\n",
    "\n",
    "Python é uma linguagem de programação de alto nível, interpretada, de script, imperativa, orientada a objetos, funcional, de tipagem dinâmica e forte. Foi lançada por Guido van Rossum em 1991. Atualmente possui um modelo de desenvolvimento comunitário, aberto e gerenciado pela organização sem fins lucrativos Python Software Foundation. Apesar de várias partes da linguagem possuírem padrões e especificações formais, a linguagem como um todo não é formalmente especificada. O padrão de facto é a implementação CPython.\n",
    "\n",
    "A linguagem foi projetada com a filosofia de enfatizar a importância do esforço do programador sobre o esforço computacional. Prioriza a legibilidade do código sobre a velocidade ou expressividade. Combina uma sintaxe concisa e clara com os recursos poderosos de sua biblioteca padrão e por módulos e frameworks desenvolvidos por terceiros.\n",
    "\n",
    "Python é uma linguagem de propósito geral de alto nível, multiparadigma, suporta o paradigma orientado a objetos, imperativo, funcional e procedural. Possui tipagem dinâmica e uma de suas principais características é permitir a fácil leitura do código e exigir poucas linhas de código se comparado ao mesmo programa em outras linguagens. Devido às suas características, ela é principalmente utilizada para processamento de textos, dados científicos e criação de CGIs para páginas dinâmicas para a web. Foi considerada pelo público a 3ª linguagem \"mais amada\", de acordo com uma pesquisa conduzida pelo site Stack Overflow em 2018, e está entre as 5 linguagens mais populares, de acordo com uma pesquisa conduzida pela RedMonk.\n",
    "\n",
    "O nome Python teve a sua origem no grupo humorístico britânico Monty Python, criador do programa Monty Python's Flying Circus, embora muitas pessoas façam associação com o réptil do mesmo nome (em português, píton ou pitão). \n",
    "\n",
    "Para saber mais sobre Python [clique aqui](https://realpython.com/tutorials/community/)\n",
    "\n",
    "Para a comunidade Python no Brasil [clique aqui](https://2018.pythonbrasil.org.br/)\n",
    "\n",
    "Exercícios em Python [clique aqui](https://wiki.python.org.br/ListaDeExercicios)"
   ]
  },
  {
   "cell_type": "markdown",
   "metadata": {},
   "source": [
    "## ANACONDA\n",
    "\n",
    "<br>\n",
    "<img src=\"img/anaconda.png\" width='500' >\n",
    "<br>\n",
    "\n",
    "A plataforma abeta Anaconda Distribution é a maneira mais fácil de trabalhar com ciência de dados e aprendizado de máquina em Python/R no Linux, Windows e Mac OS X. Com mais de 11 milhões de usuários em todo o mundo, é o padrão da indústria para desenvolvimento, teste e treinamento de uma única máquina, permitindo que os cientistas de dados individuais:\n",
    "\n",
    "- Baixar rapidamente mais de 1.500 pacotes de ciência de dados do Python/R\n",
    "- Gerenciar bibliotecas, dependências e ambientes com o Conda\n",
    "- Desenvolver e treinar modelos de aprendizado de máquina e aprendizagem profunda com Scikit-learn, TensorFlow e Theano\n",
    "- Analisar dados com escalabilidade e desempenho com o Dask, NumPy, pandas e Numba\n",
    "- Visualizar resultados com Matplotlib, Bokeh, Datashader e Holoviews\n",
    "\n",
    "Para baixar o ANACONDA [clique aqui](https://www.anaconda.com/distribution/)\n",
    "\n",
    "<br>\n",
    "<img src=\"https://blog.geekhunter.com.br/wp-content/uploads/2019/06/docker-na-pratica-como-construir-uma-aplicacao-2-750x410.png\" width='500' >\n",
    "<br>\n",
    "Como opção você pode instalar os pacotes individualmente assim como Python e outras ferramentas, mas o trabalho é bem maior. Também é possível usar ferramentas como o [Docker](https://www.docker.com/) para criar máquinas \"virtuais\" já com software instalado ou ambientes de desenvolvimento."
   ]
  },
  {
   "cell_type": "markdown",
   "metadata": {},
   "source": [
    "## JUPYTER\n",
    "\n",
    "<br>\n",
    "<img src=\"http://www.elearning.fse.manchester.ac.uk/wp-content/uploads/2016/05/jupyterlogo.jpg\" width='500'>\n",
    "<br>\n",
    "\n",
    "\n",
    "O Jupyter Notebook é um aplicativo Web de código aberto que permite criar e compartilhar documentos (também chamados de notebooks) que contêm código ativo, equações, visualizações e texto narrativo. Os usos incluem: limpeza e transformação de dados, simulação numérica, modelagem estatística, visualização de dados, aprendizado de máquina e muito mais.\n",
    "\n",
    "Opções para de uso:<br>\n",
    "[Google Colaboratory](https://colab.research.google.com)\n",
    "<br>\n",
    "[Mode](https://mode.com/)"
   ]
  },
  {
   "cell_type": "code",
   "execution_count": null,
   "metadata": {},
   "outputs": [],
   "source": [
    "from IPython.display import HTML\n",
    "\n",
    "HTML('<iframe width=\"560\" height=\"315\" src=\"https://www.youtube.com/embed/zVaMHGlSyh4\" frameborder=\"0\" allow=\"accelerometer; autoplay; encrypted-media; gyroscope; picture-in-picture\" allowfullscreen></iframe>')"
   ]
  },
  {
   "cell_type": "markdown",
   "metadata": {},
   "source": [
    "## GIT\n",
    "\n",
    "<br>\n",
    "<img src=\"img/git_logo.png\" width='500'>\n",
    "<br>\n",
    "\n",
    "*fonte:Wikipedia*\n",
    "\n",
    "Git pronunciado /git/ (ou pronunciado /dit/ em inglês britânico) é um sistema de controle de versões distribuído, usado principalmente no desenvolvimento de software, mas pode ser usado para registrar o histórico de edições de qualquer tipo de arquivo. O Git foi inicialmente projetado e desenvolvido por Linus Torvalds para o desenvolvimento do kernel Linux, mas foi adotado por muitos outros projetos.\n",
    "\n",
    "Cada diretório de trabalho do Git é um repositório com um histórico completo e habilidade total de acompanhamento das revisões, não dependente de acesso a uma rede ou a um servidor central. O Git também facilita a reprodutibilidade científica em uma ampla gama de disciplinas, da ecologia à bioinformática, arqueologia à zoologia.\n",
    "\n",
    "O Git é um software livre, distribuído sob os termos da versão 2 da GNU General Public License. Sua manutenção é atualmente supervisionada por Junio Hamano. \n",
    "\n",
    "<br>\n",
    "<img src=\"img/git.png\" width='600'>\n",
    "<br>"
   ]
  },
  {
   "cell_type": "markdown",
   "metadata": {},
   "source": [
    "___"
   ]
  },
  {
   "cell_type": "markdown",
   "metadata": {},
   "source": [
    "# Problema:\n",
    "\n",
    "- Muito se fala de desigualdade salarial entre generos. Existe desigualdade? E se sim, de quanto ela é?"
   ]
  },
  {
   "cell_type": "markdown",
   "metadata": {},
   "source": [
    "## Abrindo o arquivo e acessando os dados\n",
    "[Faça o download do dataset clicando aqui](https://drive.google.com/open?id=1zhUuvGFGd72T9q3dBfckM0xatrDcKjam) e coloque na mesma pasta do seu notebook (arquivo ipnb)"
   ]
  },
  {
   "cell_type": "code",
   "execution_count": null,
   "metadata": {},
   "outputs": [],
   "source": [
    "# Importando a biblioteca\n",
    "import csv #https://docs.python.org/3/library/csv.html"
   ]
  },
  {
   "cell_type": "code",
   "execution_count": null,
   "metadata": {},
   "outputs": [],
   "source": [
    "# Abrindo o Dataset no modo leitura\n",
    "data_csv=open(r'demografia.csv', mode='r')\n",
    "\n",
    "# Lendo o arquivo\n",
    "data = csv.reader(data_csv)\n",
    "print(type(data))"
   ]
  },
  {
   "cell_type": "code",
   "execution_count": null,
   "metadata": {},
   "outputs": [],
   "source": [
    "# Imprimindo as primeiras 20 linhas do Dataset\n",
    "\n",
    "contador = 0\n",
    "for row in data:\n",
    "    print(row)\n",
    "    contador = contador + 1\n",
    "\n",
    "#     print(row[2],row[4],row[6])\n",
    "    if contador == 20:\n",
    "        break\n",
    "        "
   ]
  },
  {
   "cell_type": "code",
   "execution_count": null,
   "metadata": {},
   "outputs": [],
   "source": [
    "# Verificando a última linha\n",
    "\n",
    "row"
   ]
  },
  {
   "cell_type": "code",
   "execution_count": null,
   "metadata": {},
   "outputs": [],
   "source": [
    "# Verificando o tipo de variável das linhas\n",
    "\n",
    "type(row)"
   ]
  },
  {
   "cell_type": "code",
   "execution_count": null,
   "metadata": {},
   "outputs": [],
   "source": [
    "# Chamando uma variável da coluna 1\n",
    "\n",
    "row[1]"
   ]
  },
  {
   "cell_type": "code",
   "execution_count": null,
   "metadata": {},
   "outputs": [],
   "source": [
    "# Verificando o tipo de variável de cada observação\n",
    "\n",
    "type(row[1])"
   ]
  },
  {
   "cell_type": "markdown",
   "metadata": {},
   "source": [
    "## Medidas de Centralidade\n",
    "\n",
    "### Média\n",
    "\n",
    "\n",
    "*fonte: Wikipedia*\n",
    "\n",
    "Em estatística, média é definida como o valor que mostra para onde se concentram os dados de uma distribuição como o ponto de equilíbrio das frequências em um histograma. Média também é interpretada como um valor significativo de uma lista de números. Os valores de uma lista de números podem ser representados por meio da escolha aleatória de um número. Se todos os números forem iguais, o número escolhido aleatoriamente será a média. Então, a média pode ser calculada por meio da combinação dos números de maneira específica e da geração de um valor significativo. Entretanto, a palavra média é usualmente usada em métodos mais sofisticados como média aritmética, mediana, moda, entre outros.\n",
    "\n",
    "Seguindo uma definição mais informal de \"média\", pode-se assumir que no campo da estatística, dados possuem posições. Por exemplo, cada valor dos lançamentos de um dado possui sua posição em uma planilha eletrônica. Em estatística, média é uma medida de posição que indica um valor uniforme dos dados. Por exemplo, o conjunto x = { 2 , 1 , 6 , 5 , 10 } possui média aritmética 4,8. Embora 4,8 seja o valor médio, ele não é o valor central definido pela mediana.\n",
    "\n",
    "\n",
    "<br>\n",
    "<img src=\"img/media.png\">\n",
    "<br>\n",
    "\n",
    "\n",
    "A **média** é calculada por:\n",
    "\n",
    "$$ \\overline x = \\frac{1}{n} \\sum_i x_i $$\n",
    "\n",
    "Por exemplo, para a mostra 8, 5, 3, -1, e -5, a média é:"
   ]
  },
  {
   "cell_type": "code",
   "execution_count": null,
   "metadata": {},
   "outputs": [],
   "source": [
    "# Calculando a média de uma lista\n",
    "\n",
    "numbers = [8,5,3,-1,-5]\n",
    "\n",
    "somatorio = 0\n",
    "for number in numbers:\n",
    "    somatorio += number\n",
    "    print(f'Somando {number} + {somatorio-number} = {somatorio}')\n",
    "    \n",
    "media = somatorio/len(numbers)\n",
    "print('\\nmédia:',media)\n"
   ]
  },
  {
   "cell_type": "code",
   "execution_count": null,
   "metadata": {},
   "outputs": [],
   "source": [
    "# Verificando o comprimento da lista\n",
    "\n",
    "len(numbers)"
   ]
  },
  {
   "cell_type": "code",
   "execution_count": null,
   "metadata": {},
   "outputs": [],
   "source": [
    "# Imprimindo o valor da média\n",
    "\n",
    "media"
   ]
  },
  {
   "cell_type": "markdown",
   "metadata": {},
   "source": [
    "### Fazendo a média com nosso arquivo original"
   ]
  },
  {
   "cell_type": "code",
   "execution_count": null,
   "metadata": {
    "scrolled": true
   },
   "outputs": [],
   "source": [
    "# Cálculo da média das idades do Dataset\n",
    "\n",
    "lista_exemplo = []\n",
    "somatorio = 0\n",
    "for i, line in enumerate(data):\n",
    "    if  i>0:\n",
    "        somatorio +=  int(line[2])\n",
    "        lista_exemplo.append(line[2])\n",
    "\n",
    "\n",
    "media = round(somatorio/len(lista_exemplo),2)\n",
    "\n",
    "print(f'Média da coluna Idade: {media}')\n"
   ]
  },
  {
   "cell_type": "markdown",
   "metadata": {},
   "source": [
    "### Calculando a média de Salário, anos de estudo e idade no mesmo código."
   ]
  },
  {
   "cell_type": "code",
   "execution_count": null,
   "metadata": {},
   "outputs": [],
   "source": [
    "# Calculando a média de várias variáveis do Dataset\n",
    "\n",
    "# Abrindo o Dataset no modo leitura\n",
    "data_csv=open(r'demografia.csv', mode='r')\n",
    "\n",
    "# Lendo o arquivo\n",
    "data = csv.reader(data_csv)\n",
    "\n",
    "somatorio_idade = 0\n",
    "somatorio_estudo = 0\n",
    "somatorio_salario = 0\n",
    "\n",
    "#lista_exemplo = []\n",
    "somatorio = 0\n",
    "for i, row in enumerate(data):\n",
    "    if i>0:\n",
    "        print(row)\n",
    "        somatorio_idade += int(row[2])\n",
    "        somatorio_estudo += float(row[4])\n",
    "        somatorio_salario += float(row[6])\n",
    "            \n",
    "        \n",
    "media_idade = round(somatorio_idade/i,2)\n",
    "media_estudo = round(somatorio_estudo/i,2)\n",
    "media_salario = round(somatorio_salario/i,2)\n",
    "\n",
    "\n",
    "print(f'Média da coluna Idade: {media_idade}')\n",
    "print(f'Média da coluna Anos de Estudo: {media_estudo}')\n",
    "print(f'Média da coluna Salario: {media_salario}')"
   ]
  },
  {
   "cell_type": "markdown",
   "metadata": {},
   "source": [
    "> As linhas NULAS não podem ser convertidas em valores números?<br>\n",
    "> Como resolver ? Podemos criar uma FUNÇÃO que resolve isso?"
   ]
  },
  {
   "cell_type": "markdown",
   "metadata": {},
   "source": [
    "### VAMOS RESOLVER?"
   ]
  },
  {
   "cell_type": "code",
   "execution_count": null,
   "metadata": {},
   "outputs": [],
   "source": [
    "def tira_zero(entrada):\n",
    "    #\n",
    "    #\n",
    "    return saida\n"
   ]
  },
  {
   "cell_type": "markdown",
   "metadata": {},
   "source": [
    "Dê dois cliques para ver a resposta:\n",
    "<!--\n",
    "# Função para preencher campos nulos com zero\n",
    "def tira_zero(parametro):\n",
    "    try:\n",
    "        parametro = float(parametro)\n",
    "        return parametro\n",
    "    except:\n",
    "        return 0\n",
    "\n",
    "-->"
   ]
  },
  {
   "cell_type": "code",
   "execution_count": null,
   "metadata": {},
   "outputs": [],
   "source": [
    "# Cálculo das médias com aplicação da função de preenchimento dos nulos com zero\n",
    "\n",
    "somatorio_idade = 0\n",
    "somatorio_estudo = 0\n",
    "somatorio_salario = 0\n",
    "\n",
    "somatorio = 0\n",
    "\n",
    "for i, row in enumerate(data):\n",
    "\n",
    "    if i>0:\n",
    "        somatorio_idade += tira_zero(row[2])\n",
    "        somatorio_estudo += tira_zero(row[4])\n",
    "        somatorio_salario += tira_zero(row[6])\n",
    "            \n",
    "media_idade = round(somatorio_idade/i,2)\n",
    "media_estudo = round(somatorio_estudo/i,2)\n",
    "media_salario = round(somatorio_salario/i,2)\n",
    "\n",
    "print(f'Média da coluna Idade: {media_idade}')\n",
    "print(f'Média da coluna Anos de Estudo: {media_estudo}')\n",
    "print(f'Média da coluna Salario: {media_salario}')"
   ]
  },
  {
   "cell_type": "markdown",
   "metadata": {},
   "source": [
    "### Uma segunda opção para resolver os zeros"
   ]
  },
  {
   "cell_type": "code",
   "execution_count": null,
   "metadata": {},
   "outputs": [],
   "source": [
    "# Função alternativa para preenchimento dos nulos com zero\n",
    "\n",
    "def substitui_nulo_por_zero(entrada):\n",
    "    lista = []\n",
    "    for i, row in enumerate(entrada):\n",
    "            \n",
    "        if not row[2]:\n",
    "            row[2] = 0\n",
    "\n",
    "        if not row[4]:\n",
    "            row[4] = 0\n",
    "\n",
    "        if not row[6]:\n",
    "            row[6] = 0\n",
    "\n",
    "        lista.append(row)\n",
    "            \n",
    "    return lista"
   ]
  },
  {
   "cell_type": "code",
   "execution_count": null,
   "metadata": {},
   "outputs": [],
   "source": [
    "# Aplicação da função alternatica para cálculo das médias\n",
    "\n",
    "somatorio_idade = 0\n",
    "somatorio_estudo = 0\n",
    "somatorio_salario = 0\n",
    "\n",
    "\n",
    "with open(r'demografia.csv', 'r') as data_csv:\n",
    "    data = csv.reader(data_csv)\n",
    "    \n",
    "    #lista_exemplo = []\n",
    "    lista_exemplo = substitui_nulo_por_zero(data)\n",
    "    \n",
    "    somatorio = 0\n",
    "    \n",
    "    for i, row in enumerate(lista_exemplo):\n",
    "        \n",
    "        if i>0:\n",
    "            somatorio_idade += int(row[2])\n",
    "            somatorio_estudo += float(row[4])\n",
    "            somatorio_salario += float(row[6])\n",
    "            \n",
    "media_idade = round(somatorio_idade/i,2)\n",
    "media_estudo = round(somatorio_estudo/i,2)\n",
    "media_salario = round(somatorio_salario/i,2)\n",
    "\n",
    "print(f'Média da coluna Idade: {media_idade}')\n",
    "print(f'Média da coluna Anos de Estudo: {media_estudo}')\n",
    "print(f'Média da coluna Salario: {media_salario}')\n"
   ]
  },
  {
   "cell_type": "markdown",
   "metadata": {},
   "source": [
    "___"
   ]
  },
  {
   "cell_type": "markdown",
   "metadata": {},
   "source": [
    "### Aprendendo a trabalhar com dicionários em Python\n",
    "\n",
    "Material complementar para dicionarios python: http://excript.com/python/funcoes-dicionarios.html"
   ]
  },
  {
   "cell_type": "code",
   "execution_count": null,
   "metadata": {},
   "outputs": [],
   "source": [
    "# Abrir e ler o Dataset como um dicionário\n",
    "\n",
    "input_file = csv.DictReader(open(r'demografia.csv', 'r') )\n",
    "\n",
    "contador = 0\n",
    "for row in input_file:\n",
    "    contador += 1\n",
    "    if contador <= 10:\n",
    "        print('\\n', row)\n",
    "        "
   ]
  },
  {
   "cell_type": "code",
   "execution_count": null,
   "metadata": {},
   "outputs": [],
   "source": [
    "# Leitura do último valor de linha armazenado\n",
    "\n",
    "row"
   ]
  },
  {
   "cell_type": "code",
   "execution_count": null,
   "metadata": {},
   "outputs": [],
   "source": [
    "# Leitura do último valor de idade armazenada\n",
    "\n",
    "row['idade']"
   ]
  },
  {
   "cell_type": "code",
   "execution_count": null,
   "metadata": {},
   "outputs": [],
   "source": [
    "# Leitura do último valor de região armazenado\n",
    "\n",
    "row['regiao']"
   ]
  },
  {
   "cell_type": "markdown",
   "metadata": {},
   "source": [
    "#### Criando a tabela como um dicionario"
   ]
  },
  {
   "cell_type": "code",
   "execution_count": null,
   "metadata": {},
   "outputs": [],
   "source": [
    "# Leitura do Dataset como uma tabala de dicionário\n",
    "\n",
    "dict_table = dict()\n",
    "dict_table = {}\n",
    "\n",
    "with open(r'demografia.csv', 'r') as data_csv:\n",
    "    data = csv.reader(data_csv)\n",
    "    header = next(data, None)\n",
    "    \n",
    "    for row in data:    \n",
    "        dict_table[row[1]] = {'idade':row[2], 'sexo':row[3], 'anos_estudo':row[4], 'salario': row[6]}\n",
    "        "
   ]
  },
  {
   "cell_type": "code",
   "execution_count": null,
   "metadata": {
    "scrolled": true
   },
   "outputs": [],
   "source": [
    "# Impressão dos valores das 10 primeiras observações do Dataset\n",
    "\n",
    "contador = 0\n",
    "for row in dict_table:\n",
    "    print(row,dict_table[row])\n",
    "    contador = contador + 1\n",
    "\n",
    "    if contador == 10:\n",
    "        break\n"
   ]
  },
  {
   "cell_type": "code",
   "execution_count": null,
   "metadata": {},
   "outputs": [],
   "source": [
    "# Verificação de valores dentro do Dataset\n",
    "\n",
    "'11027211101.0' in dict_table\n"
   ]
  },
  {
   "cell_type": "code",
   "execution_count": null,
   "metadata": {},
   "outputs": [],
   "source": [
    "# Impressão de uma observação do Dataset\n",
    "\n",
    "dict_table['11027211101.0']\n"
   ]
  },
  {
   "cell_type": "code",
   "execution_count": null,
   "metadata": {},
   "outputs": [],
   "source": [
    "# Impressão de um valor específico de anos de estudo da observação\n",
    "\n",
    "dict_table['11027211101.0']['anos_estudo']\n"
   ]
  },
  {
   "cell_type": "code",
   "execution_count": null,
   "metadata": {},
   "outputs": [],
   "source": [
    "# Atribuição de um novo valor de anos de estudo para a observação\n",
    "\n",
    "dict_table['11027211101.0']['anos_estudo'] = '6.0'\n"
   ]
  },
  {
   "cell_type": "code",
   "execution_count": null,
   "metadata": {},
   "outputs": [],
   "source": [
    "# Verificação para o novo valor de anos de estudo atribuído\n",
    "\n",
    "dict_table['11027211101.0']\n"
   ]
  },
  {
   "cell_type": "code",
   "execution_count": null,
   "metadata": {},
   "outputs": [],
   "source": [
    "# Apagando permanentemente uma observação do Dataset\n",
    "\n",
    "del dict_table['11027211101.0']\n"
   ]
  },
  {
   "cell_type": "code",
   "execution_count": null,
   "metadata": {},
   "outputs": [],
   "source": [
    "# Verificação se o valor foi apagado\n",
    "\n",
    "dict_table['11027211101.0']\n"
   ]
  },
  {
   "cell_type": "code",
   "execution_count": null,
   "metadata": {},
   "outputs": [],
   "source": [
    "# Criação de uma função para distribuição/frequeência por contagem do número de valores de uma variável\n",
    "\n",
    "def create_text_histogram(txt):\n",
    "    dictionary = {}\n",
    "    i=0\n",
    "    for x in set(txt): # função set\n",
    "        dictionary[x] = txt.count(x)\n",
    "    return dictionary\n"
   ]
  },
  {
   "cell_type": "code",
   "execution_count": null,
   "metadata": {},
   "outputs": [],
   "source": [
    "# Aplicando a contagem de valores para uma variável de texto\n",
    "\n",
    "create_text_histogram(txt='teste de frase comprida para histograma')"
   ]
  },
  {
   "cell_type": "code",
   "execution_count": null,
   "metadata": {},
   "outputs": [],
   "source": [
    "# Criação de uma lista com as idades do Dataaset\n",
    "\n",
    "contagem_idades = {}\n",
    "\n",
    "with open(r'demografia.csv', 'r') as data_csv:\n",
    "    data = csv.reader(data_csv)\n",
    "    header = next(data, None) # equivalente a i>0\n",
    "    \n",
    "    idades = []\n",
    "    for row in data:\n",
    "        idades.append(row[2])\n",
    "        \n",
    "    "
   ]
  },
  {
   "cell_type": "code",
   "execution_count": null,
   "metadata": {
    "scrolled": true
   },
   "outputs": [],
   "source": [
    "# verificação dos valores da lista de idade\n",
    "\n",
    "idades\n"
   ]
  },
  {
   "cell_type": "markdown",
   "metadata": {},
   "source": [
    "#### Criando um histograma\n",
    "\n",
    "Gráfico que mostra a distribuição/frequência das observações"
   ]
  },
  {
   "cell_type": "code",
   "execution_count": null,
   "metadata": {},
   "outputs": [],
   "source": [
    "# Aplicação da função de contagem de valores para a lista de idades\n",
    "\n",
    "histograma_idades = create_text_histogram(idades)"
   ]
  },
  {
   "cell_type": "code",
   "execution_count": null,
   "metadata": {},
   "outputs": [],
   "source": [
    "# Identificando o tipo de variável criada com um dicionário\n",
    "\n",
    "type(histograma_idades)"
   ]
  },
  {
   "cell_type": "code",
   "execution_count": null,
   "metadata": {
    "scrolled": false
   },
   "outputs": [],
   "source": [
    "# Contagem do número de pessoas com cada uma das idades do Dartaset\n",
    "\n",
    "histograma_idades"
   ]
  },
  {
   "cell_type": "code",
   "execution_count": null,
   "metadata": {},
   "outputs": [],
   "source": [
    "# Verificando as chaves do dicionário criado\n",
    "\n",
    "histograma_idades.keys()\n"
   ]
  },
  {
   "cell_type": "code",
   "execution_count": null,
   "metadata": {},
   "outputs": [],
   "source": [
    "# Verificando os valores do dicionário criado\n",
    "\n",
    "histograma_idades.values()\n"
   ]
  },
  {
   "cell_type": "code",
   "execution_count": null,
   "metadata": {},
   "outputs": [],
   "source": [
    "# Verificando os itens do dicionário criado\n",
    "\n",
    "histograma_idades.items()\n"
   ]
  },
  {
   "cell_type": "code",
   "execution_count": null,
   "metadata": {
    "scrolled": false
   },
   "outputs": [],
   "source": [
    "# Ordenando as observações pela chave\n",
    "\n",
    "for key in sorted(histograma_idades.keys()):\n",
    "    print(\"%s: %s\" % (key, histograma_idades[key]))\n",
    "    "
   ]
  },
  {
   "cell_type": "markdown",
   "metadata": {},
   "source": [
    "### Agora vamos ordenar as observações por 'valor' (quantidade de pessoas com determinada idade)"
   ]
  },
  {
   "cell_type": "code",
   "execution_count": null,
   "metadata": {},
   "outputs": [],
   "source": [
    "# Crie um código para ordenar as observações pelos valores (número de pessoas por idade)\n"
   ]
  },
  {
   "cell_type": "markdown",
   "metadata": {},
   "source": [
    "**Dê dois cliques para ver a resposta:**\n",
    "<!--\n",
    "# Código para ordenar as observações pelos valores (número de pessoas por idade)\n",
    "from operator import itemgetter\n",
    "for k, v in sorted(histograma_idades.items(), key=itemgetter(1)):\n",
    "    print (k,':', v)\n",
    "-->"
   ]
  },
  {
   "cell_type": "code",
   "execution_count": null,
   "metadata": {},
   "outputs": [],
   "source": [
    "# Importanto uma biblioteca gráfica para plotar o gráfico\n",
    "import matplotlib.pyplot as plt #https://matplotlib.org/3.1.1/index.html\n",
    "\n",
    "#mapeando os valores da lista idades que eram strings para inteiros\n",
    "x = list(map(int, idades))\n",
    "\n",
    "# Criando o gráfico histograma passando n, bins, patches\n",
    "plt.hist(x, 40, density=True, facecolor='g', alpha=0.75)\n",
    "\n",
    "# Definindo o limite mínimo e máximo do eixo x\n",
    "plt.xlim(15, 65)\n",
    "\n",
    "# Exibindo o gráfico\n",
    "plt.show()"
   ]
  },
  {
   "cell_type": "markdown",
   "metadata": {},
   "source": [
    "___"
   ]
  },
  {
   "cell_type": "markdown",
   "metadata": {},
   "source": [
    "### Mediana\n",
    "\n",
    "\n",
    "\n",
    "Mediana é o valor que separa a metade maior e a metade menor de uma amostra, uma população ou uma distribuição de probabilidade. Em termos mais simples, mediana pode ser o valor do meio de um conjunto de dados. No conjunto de dados {1, 3, 3, 6, 7, 8, 9}, por exemplo, a mediana é 6. Se houver um número par de observações, não há um único valor do meio. Então, a mediana é definida como a média dos dois valores do meio. No conjunto de dados {3, 5, 7, 9}, a mediana é (5 + 7) / 2 = 6.\n",
    "\n",
    "A mediana é uma medida comum das propriedades de conjuntos de dados em estatística e em teoria das probabilidades, com importância central na estatística robusta. A estatística robusta é mais resistente, com ponto de ruptura de 50%. A mediana não fornece resultados arbitrariamente grandes desde que mais da metade dos dados não esteja contaminada.\n",
    "\n",
    "A vantagem da mediana em relação à média é que a mediana pode dar uma ideia melhor de um valor típico porque não é tão distorcida por valores extremamente altos ou baixos. Em estudos estatísticos sobre renda familiar ou outros ativos voláteis, a média pode ser distorcida por um pequeno número de valores extremamente altos ou baixos. \n",
    "\n",
    "Exemplos:\n",
    "\n",
    "- Ímpar:\n",
    "\t\t[1, 2, 3, 5, 7, 8, 9, 10, 15]\n",
    "\t\t#elementos: 9\n",
    "\t\tA mediana é o valor da posição 5 (a posição do “meio”)\n",
    "\t\tMediana =  7\n",
    "        \n",
    "        \n",
    "- Par: \n",
    "\t\t[-5, -1, 0, 1, 2, 3, 8, 20]\n",
    "\t\t#elementos: 8\n",
    "\t\tA mediana é a média dos valores nas duas posições centrais\n",
    "\t\tMediana =  (1+2)/2 = 1.5"
   ]
  },
  {
   "cell_type": "markdown",
   "metadata": {},
   "source": [
    "### Definindo uma função para calcular a Mediana"
   ]
  },
  {
   "cell_type": "code",
   "execution_count": null,
   "metadata": {},
   "outputs": [],
   "source": [
    "def median(l):\n",
    "    #\n",
    "    #\n",
    "    return l[half]\n"
   ]
  },
  {
   "cell_type": "markdown",
   "metadata": {},
   "source": [
    "**Dê dois cliques para ver a resposta:**\n",
    "<!--\n",
    "def median(l):\n",
    "    half = (len(l)) // 2\n",
    "    l.sort()\n",
    "    if not len(l) % 2:\n",
    "        return (l[half - 1] + l[half]) / 2.0\n",
    "    return l[half]\n",
    "-->"
   ]
  },
  {
   "cell_type": "markdown",
   "metadata": {},
   "source": [
    "### Aplicando para as idades do nosso DataSet"
   ]
  },
  {
   "cell_type": "code",
   "execution_count": null,
   "metadata": {},
   "outputs": [],
   "source": [
    "# Calculando a mediana das idades do Dataset\n",
    "\n",
    "idades = list(map(int,idades))\n",
    "median(idades)\n"
   ]
  },
  {
   "cell_type": "markdown",
   "metadata": {},
   "source": [
    "___"
   ]
  },
  {
   "cell_type": "markdown",
   "metadata": {},
   "source": [
    "### Moda\n",
    "\n",
    "\n",
    "Em estatística, moda é uma das medidas de tendência central de um conjunto de dados, assim como a média e a mediana. Ela pode ser definida em moda amostral e populacional.\n",
    "\n",
    "Em relação à primeira delas, a moda amostral de um conjunto de dados trata do valor que ocorre com maior frequência ou o valor mais comum em um conjunto de dados. Moda é especialmente útil quando os valores ou as observações não são numéricos, casos em que a média e a mediana não podem ser definidas. \n",
    "\n",
    "Moda amostral não é necessariamente única como média ou mediana. Amostras que possuem uma moda são chamadas unimodais. Por exemplo, a amostra {1, 2, 3, 5, 5, 6, 7} tem moda 5. Amostras que possuem duas modas são chamadas bimodais. Por exemplo, a amostra {1, 2, 3, 5, 5, 6, 6} tem modas 5 e 6. Amostras que possuem várias modas são chamadas multimodais. Por exemplo, a amostra {1, 2 3, 5, 5, 6, 6, 7, 7} tem modas 5, 6 e 7. Amostras que não possuem moda são chamadas amodais. Por exemplo, a amostra {1, 3, 2, 5, 7, 6} não tem moda. \n",
    "\n",
    "Por exemplo, a moda de [0,1,1,2,2,2,2,3,3,4,4,4,5] é 2.\n",
    "\n",
    "A moda não é necessariamente única. Pode ser que existam dois valores diferentes que sejam os mais frequentes. Por exemplo, no caso de [10, 13, 13, 20, 20], tanto 13 como 20 são a moda.\n",
    "\n",
    "<br>\n",
    "<img src=\"img/moda2.png\">\n",
    "<br>"
   ]
  },
  {
   "cell_type": "markdown",
   "metadata": {},
   "source": [
    "### Calculando a moda"
   ]
  },
  {
   "cell_type": "code",
   "execution_count": null,
   "metadata": {},
   "outputs": [],
   "source": [
    "# Cálculo da moda para as idades do Dataset\n",
    "\n",
    "inverse = [(value, key) for key, value in histograma_idades.items()]\n",
    "print (\"O valor mais frequente para as idades é\",max(inverse)[1])"
   ]
  },
  {
   "cell_type": "code",
   "execution_count": null,
   "metadata": {},
   "outputs": [],
   "source": [
    "# Identificando o número de pessoas com a idade mais frequente do Dataset\n",
    "\n",
    "print (\"O número de pessoas com\",max(inverse)[1],\"anos de idade é\",max(inverse)[0])"
   ]
  },
  {
   "cell_type": "markdown",
   "metadata": {},
   "source": [
    "### Vamos criar uma função para procurar a pessoa mais velha da base"
   ]
  },
  {
   "cell_type": "code",
   "execution_count": null,
   "metadata": {},
   "outputs": [],
   "source": [
    "# Função para procurar a pessoa mais velha da base\n",
    "\n",
    "max_age = None\n",
    "oldest_person = None\n",
    "\n",
    "input_file = csv.DictReader(open(r'demografia.csv', 'r'))\n",
    "\n",
    "for row in input_file:\n",
    "    age = int(row[\"idade\"])\n",
    "    if max_age == None or max_age < age:\n",
    "        max_age = age\n",
    "        oldest_person = row[\"id\"]\n",
    "\n",
    "if max_age != None:\n",
    "    print(\"A pessoa mais velha na base é o id %s, que tem %d anos.\" % (oldest_person, max_age))\n",
    "else:\n",
    "    print(\"Não tem ninguém nesse arquivo\")\n",
    "    "
   ]
  },
  {
   "cell_type": "markdown",
   "metadata": {},
   "source": [
    "### Como criar uma função para procurar a pessoa mais nova da base?"
   ]
  },
  {
   "cell_type": "code",
   "execution_count": null,
   "metadata": {},
   "outputs": [],
   "source": [
    "# Função para procurar a pessoa mais nova da base\n"
   ]
  },
  {
   "cell_type": "markdown",
   "metadata": {},
   "source": [
    "**Dê dois cliques para ver a resposta:**\n",
    "<!--\n",
    "min_age = None\n",
    "youngest_person = None\n",
    "\n",
    "input_file = csv.DictReader(open(r'demografia.csv', 'r'))\n",
    "\n",
    "for row in input_file:\n",
    "    age = int(row[\"idade\"])\n",
    "    if min_age == None or min_age > age:\n",
    "        min_age = age\n",
    "        youngest_person = row[\"id\"]\n",
    "\n",
    "if min_age != None:\n",
    "    print(\"A pessoa mais nova na base é o id %s, que tem %d anos.\" % (youngest_person, min_age))\n",
    "else:\n",
    "    print(\"Não tem ninguém nesse arquivo\")\n",
    "-->"
   ]
  },
  {
   "cell_type": "markdown",
   "metadata": {},
   "source": [
    "___"
   ]
  },
  {
   "cell_type": "markdown",
   "metadata": {},
   "source": [
    "## Prévia da resposta para o nosso problema. Os homens ganham mais do que as mulheres? Quanto?"
   ]
  },
  {
   "cell_type": "code",
   "execution_count": null,
   "metadata": {},
   "outputs": [],
   "source": [
    "# Comparação dos valores de salário entre homens e mulheres\n"
   ]
  },
  {
   "cell_type": "markdown",
   "metadata": {},
   "source": [
    "**Dê dois cliques para ver a resposta:**\n",
    "<!--\n",
    "# Cálculo da média de salário dos homens e mulheres\n",
    "\n",
    "with open(r'demografia.csv', 'r') as data_csv:\n",
    "    data = csv.reader(data_csv)\n",
    "    \n",
    "    lista_sal_homem = []\n",
    "    somatorio = 0.0\n",
    "    for i, line in enumerate(data):\n",
    "        if i>0:\n",
    "            if line[3] == 'homem':\n",
    "                somatorio +=  tira_zero(line[6])\n",
    "                lista_sal_homem.append(line[6])\n",
    "            \n",
    "\n",
    "media_sal_homem = round(somatorio/len(lista_sal_homem),2)\n",
    "\n",
    "print(f'Média salário homem: {media_sal_homem}')\n",
    "\n",
    "\n",
    "with open(r'demografia.csv', 'r') as data_csv:\n",
    "    data = csv.reader(data_csv)\n",
    "    \n",
    "    lista_sal_mulher = []\n",
    "    somatorio = 0.0\n",
    "    for i, line in enumerate(data):\n",
    "        if i>0:\n",
    "            if line[3] == 'mulher':\n",
    "                somatorio +=  tira_zero(line[6])\n",
    "                lista_sal_mulher.append(line[6])\n",
    "            \n",
    "\n",
    "media_sal_mulher = round(somatorio/len(lista_sal_mulher),2)\n",
    "\n",
    "print(f'Média salário mulher: {media_sal_mulher}')\n",
    "-->"
   ]
  },
  {
   "cell_type": "markdown",
   "metadata": {},
   "source": [
    "**Dê dois cliques para ver a resposta FINAL:**\n",
    "<!--\n",
    "Apesar de as mulhares terem média salarial inferior, não é possível afirmar que elas ganham menos - para isso é necessário que se faça uma inferência estatística, que veremos no final deste módulo.\n",
    "-->"
   ]
  },
  {
   "cell_type": "markdown",
   "metadata": {},
   "source": [
    "Mais conteúdo e exercícios sobre Média, Moda e Mediana em:\n",
    "http://professorguru.com.br/estatistica/medidas%20de%20posição/exemplos%20de%20média%2C%20moda%20e%20mediana.html\n",
    "https://www.todamateria.com.br/media-moda-e-mediana/"
   ]
  },
  {
   "cell_type": "markdown",
   "metadata": {},
   "source": [
    "# Homework: calcular e comparar as médias das idades e anos de estudo dos homens e mulheres do Dataset"
   ]
  },
  {
   "cell_type": "code",
   "execution_count": null,
   "metadata": {},
   "outputs": [],
   "source": []
  },
  {
   "cell_type": "markdown",
   "metadata": {},
   "source": [
    "___"
   ]
  },
  {
   "cell_type": "markdown",
   "metadata": {},
   "source": [
    "# Dicas de estudo\n",
    "\n",
    "<br>\n",
    "<h3>Documentário do Netflix</h3>\n",
    "<img src=\"data:image/jpeg;base64,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\" width=\"200\">\n",
    "<br>\n",
    "<a href=\"https://www.netflix.com/br-en/title/81121186\">NOVA: Prediction by the Numbers</a>\n",
    "<br><h3>Livros:</h3>\n",
    "<img src=\"data:image/jpeg;base64,/9j/4AAQSkZJRgABAQAAAQABAAD/2wCEAAkGBxISEhUSExIWFhUXFx0YGBgYGSAYGBcVGB4fFxcZGhgYHiggGBolHRcXITEiJSkrLi4uFx8zODMtNygtLisBCgoKDg0OGhAQGC0lHyUtLS0vLS0vLS0tLS0tLS0tLSstLS0tLS0tLS0tLS0tLS0tLS0tLS0tLS0tLS0tLS0tLf/AABEIAQ0AuwMBIgACEQEDEQH/xAAbAAACAwEBAQAAAAAAAAAAAAACAwABBAcFBv/EAEcQAAECBAUBAwcIBwgDAQEBAAECEQADEiEEIjFBUWEFE3EGFCQyQoGRI0NTY6Gz0eEHFTNSscHjFzRicpOi4vCCg5Jzshb/xAAaAQEBAQADAQAAAAAAAAAAAAAAAQIDBQYE/8QAJxEBAAEDAwMEAwEBAAAAAAAAAAECESEDMVFBobEEEhXhUmFx0VP/2gAMAwEAAhEDEQA/AOf9rdp4oYjEgT54AmzAAJi2AEwgAB7CMau1MWw9IxG/zi/xi+15B84xRZTd9NvSSLTDu3SMQkuAznXRJPHAjS3bv1pi6v7xiG//AEXx4wyRjsSZUxZxk5KkUUoMxdUyokKpv7IueY89SM7b8Ul3bRo1q7OQiZLlrUoBXd94pmpWtyySQzJCkP1qiSKV2ni8vpGI0+kXyesX+tcW6vSMRv8AOL/GMszCKTZQNnBNJZwog3bSBEpyohyA7kJLDxMUu1frTF0/3jEa/SL48YMdqYupPpGI2+cX+MefSKfW346QQSKk3G2xgrYntTFsfSMR/qL58YpfamLYekYjf5xf4xiSkMbj4HmIpAYX52P4QS70D2pi6j6RiN/nF8eMEMdi+7r85nvUwT3q6ikWKhfRyA2tjsIxy5NUykEOX2sLFyTsAL+6EBApNxqNjwYJe7ee1MXl9IxGn0i+T1i/1pi3V6RiN/nF/jGSfLTlKTYjQ6pINwenB3B6GGeZfJqm95L1IKH+UAdq6f3KnTzZ2a8JwsTc39aYukekYjU/OL4HWCHamLqHpGI2+cXwOsYKRT6w1Ox4EEEioXG23QQVrT2pi2PpGI2+cXz4wasfjaAvvsRS5D96v+FTts+j2jFIkghZKgEgByz72AG5JgFJDJzc7H4QZmXofrTF1H0jEb/OL48YEdqYtv7xiNR84v8AGM6kIdwpjcKSQeNUlrjobjrCQkNqNRsesFu3ntTFun0jEaD5xf4xX61xeZ8RiN/nF/jGOkOm40GxjThMSuQpSpaihSkWUxCggqBdJI0VSz7hxoTEUR7UxbD0jEan51fA6x1DyGxMxWClFa1qVncqJJLTFAOTc2aOUSZSF2XNCHKiFUEoqt64SHSk8pBYtZo6n5DyqMFKSSCQZl0mpJ+UXcKTYiJI5n2wv0jE6/tpu5+kO0YlTAALM76KI4jd2uT5xir/AD0zcfSGAGJmIlKlUpzl1FQzhgKGJulrm2tRd4qWDhJQXNp0ZKlKUXNKUIKlK+xvEiMwWCkuOLOTq8bZuGmoCZhICJoISyw6wkAqcDQAsCDvtGVJUxvuNx1hBYeJRQJd3C5YWGJDAqIIbkFJHugUTqVEi2u/8RvBqTMKAp3SghPreqVlSgw4NKvfAup1X53EISYgtTAMUtfnYhx9hEEFipNuN4JcxZSL+rldxcah+u3gIolTpvxuIskTykicUglIKXDO5BZ2NJ20b4wInlIBTUl30UR8W1g1TVKe7AAAB9AGH/fGH4fFTpAdIT8rLINQBC5SixA3pU2o4iTPBEcs4mMpQDhwQcxuGOrawusUnLuN/GG5grXY7jRjAhSmN9xuOsVTcDLlrmIEw0y2KlqBuEpcml9VnQDcmFTgApYAG7ZnBG124h+LQEiUAqpRQFTCFApClF0oHVI1PJI9m4SkklYqYsabhnGoPDjQ8+MSMpOMrxaZYShcu6FPlKs8tYACkKbUaFKtweQYCUKlpSBctvpa5PQCJLU1JW5TVmAUAops4B2MaMbIomBCZlYsagwDH1Q2ym9YbFx1hBPDGopzU3A0Oj31baKUsMLc7wSSpjfjccxaiphfncRViEJFRy879Ii5qSl6AFOAWLBQYsW2V9hgiVVG/O44gQVUm+43ECYR01JCklnFSXpNL3A4JG/WGYvFmZMmTFAOXsDZKQwSkcJSkADwh+IxBMuVLdzZS1lndyEoB1KEpc9So8CM8xC0lQJ2cXBBD2IO4hbqkTyUVBtNzv4R1XyCUPMZLWvM+8XHLCVML7nccCOqeQgPmMl+V7/WKiNOc45aE4yepaawmfMUUHRTTSQFf4XF+jxhnzK3WtZUpSlKUoi5US5PSPT7fxA7ydKShgmfOWskXXNM0gH/ACpQAAOSo7x5SjYZRvt4QhFsms6/DpApCWNzqNvHrBk5vV+zpF2oDJzPmtbelvc7xRcklu7TUa0h0gAkhBKw19QxNtnhYpdV+dvzhuHnqlrlzEpDoIULHY6eB098B7SmQAMzC9ukTqqS1pCFAuyumhFwf+8wUqYkHd1BIdtE7+8sB4PC3Lervx0h0yaVLCqAHawBYaf998auzbLOEpIUHOmw2f7IfjsR3iis2ewSBlQlOVKE39VKQBBScQ0laAi6yCpXMtN0oH/lmPLJhCtBlG+0Zaaps9KkJQXrlqUEKs3dKBUpB3su4/zqhWGlyqJilk2ApSLKXNU4T/4JDqJ/wge1agplvQCxdi7KAFwSNjp74LFqllSjJlqTLcUhd16Fyoizvxs0AghOW5046mLZLqudDtFqPq5Rpx1MWNVZRvtFFES6NVVVGzBmtf8Ak3vhmFEqsCZWAQACkAlKmFKmfMNim2utoU5p9UanY8CDScwy8QnKRCkpluRWaLZ6LtzRV9jxeJlygE0TFL1d5dDce0XgEqsco+HWIs5RlG+xiK0TJUoORNWVN6plMHa4rr25a8DhRJCVFZWTomWEsFKIISVTKrAG7AXZt4AqzHKN+eIEHL6o1G3jCwphludBt1ixS5BKmvYbAkPS9niFRdOUbbGLHtZRvt1ioqdLSkBlVC5BA2tqNj0jqnkC3mEljvM+8XHKwWANANzYgsdOI6x5DBPmMqkEDPY3I+UVZ94Sm27mnbLnEYo1fPLGunyhA+wRhU7DMN9z0jZ2ssDEYqxvNmg8ftD9oIjEpmFjvv4dINGgZw6mG+tg14pLGu4G6b6Nt7w4ixS6iXewAfkXOmjBvfCklLF3Zxv49IjIi7Jzbc9TGjFzq1AuxEsIVfVSHAV/80jxEInJCTTe1tRyekNQuXRMSRnqCknci4Wl2sLpV7jCVIANPrDXk8Q/DBPeI7xRodNVJNRAuQPHR9njO6ad9eenhGmYZYTKADrOZan9UaIl6XsConlQG0FLmzCtS1kpBUXZNkpc6AbAaRQAputixp111v02944gZKQpwHu2pDC+pLaRU0obLU12c38f5wSRl6zm536QIdjmGo3PWGTUpcEPcFw+igL+46+/pCQU0mx1G/j0ilxkG2YacnkxAC6sw33PMASnLrpz1PSCBS6rHQ7/AJQVp7OkhZpUQrKspTURWsJdCHDG52BD++PocZ2ZIWtyUJKikBSZmUGk1Al2JFFNhYkOSTHy0mWlZSguylsbizs5vbSPe7S8nJEkV+cVXAsE7C1hc6Cwjko0qq6ZqjaHBqeoo06qaat52wXj5cvzebMl05pcs1lZUpKq0/JNyEMTZ9XjXL7Lk5VZAAHDzCpQKQVBSs1JSogMq9WlIMb/ACE8gsPj8OZ83FnDqrKafky6Q2a5cXexA04j5vtXsnDoxIw6JpWkKIUvLlNR39VRak20ci5EfNTq01VTTG8PoppmqYiOr2JuDk52ShlrSVfK5ky81c4MplJDkgi2xTaMh7OkpDFiVzVBDzdZYStUvQ2CylIqOxMY+0uyJUoV95US9rat0veLwPZaKEzBNKFetYpcEPYGOWcbnq6Z9JV7dXE/rPhn7VkBE6lLJFEs01FQClJClMrcOTGVrqzbHc8wWIWCtypSiWzE3Je//ekAEg1liwF7jcsIMxKEFhm3O54EdV8gf7jJ3vM+8XHLJk0KYrKiHPDgWsHt7o6p5CADAygC4ddx/wDovmIn9c27XCvOMTb56bt9YYyzlqITluHBtq2nva3ujR2wkec4q/z0z7wxnkISWBIYhTltAA7jqGfrpvFaHNSQoMPZc2GpD8cN74UKmOXcbeMUEirX7OkClIpN9xz1ghypa6Uqps3AsXNiNY0dm4euaAtOQlSSqwYkMkvwCxPSMKkDLcacdTFrSHVcbxJ2MtXZmHKz8oGSgFSwGBUwYISeSogeDnaFULCkhSWNnsImMkygEiXMKwQFKJS1KyLoHNOj7l4BKA6bjaEA1SlgFwHOzA2fUtbn4RXdqKXYBgTcAP0HVgT7oUhKWVcfDrFzpQAAKrs+mj3bx0irHMnS0KMxmZ3ALDViw8CWHvheZjl3G3jBTJYCvW1BIt0IPwMCJTpKncVXIBLEA+txrrBJi05Q1Zcu3A5MWKnVbnaBEp2ZzbYE7mIlAdQe97MYF0IVTpudugi0IIUMo226CAVLYAEtfcEcQzu8wdxpqCNhAuX3TuSgE29kc+EEUlhl52ikosbnxYtrEKAwu+ugJgYHSajlG/sjjwgKTScu42EEUCs35sx4ikoZNT+0GcFnAfQ6wP4a60kCnUAHKCWO3T8hEUlYCg1nOgBzCzHq2niYAAgoW7HYkanc33vrzAADNm2PPMRbxP8ABGptNzt4dI6r5Bv5jKfmZt9YuOUzZYAGYEEli19rEbGOq+QI9Ak+Mz7xcJLWw5p2woec4q3z03c/SGMqmoCm9ogBz4k+63xj0O3EqE/EEGxmzSLtcTSCNen2iMc5K02e4d7jpbXbSDN1KpcEC9wbnhwfAj+HWFJUKTbcbnrD0VVsVMNHcWtqzwCqwC5Ygh8wszvFa3yBShlttyeTEKg6rc7mHKVMSAnQ7uz66X093MUlawVMedwfDWBgmoU6b8niCSsVJsNtzBKUshyq78jiDMyYSHNrbj+UDBKCCFMnQObnRxFTJgIBId3OphiVLpIqt4jnmKVWwvzuPxgTbosMVENoFHU8Xbq38IWlQpNtxuesOBWFu/LXGrQLLp11IIuNLjnmACsClhtyeTFpXdTDncwRry32/eHJ6xYrdV+dx+MEsUqYCA4e53PAhneOoO501JO0UaqRfc+0OB1ggV1C/G44HWBYtE3KRduKi2vDxO9YBnGuhI/hBJrY349oc+MRRWwvz7Q/GIWEFOssL3LuRsSS8AqfUm92YByTzDlGYFKDs45GjOBq4hQK6Tfcbj8YqoqY5S9yw1JO8DUHVbY7nmDJW6b7DcfjEzuq+x3HPjESwApLAlLhy4cjYbx1fyEA8xlNcPMY6fOLjlRK213PtDgdY6r5BE+YyX1df3i+sF6Wc27Vl1YjF3OWbNUbbCYXIvrpGFbEC5uSdLknXeNfbJ9IxWUftpnP0pjGpVhlG+xggyE1an4DjxiJQKSt9FJ1F3u1ib/lEJzeqPgeIAGxyjUbHrFWFrYsSS56dT1i2S6rnfYfjFFWmXbg8mLe6so32MALJp1OvA48YMBNSbnbb84Hb1RrweIJJzJyjbYwAJSljc/Ac+MRQSwud9vzi0qsco22PMUs2GUb7GAMhNRud9unjFBqKbsFOLXuC410s8WTmOUb88RUuYU3CQ4UNj11/hAjdRCctzpwOT1i2S6rnfYfjEWQ4ZLDYXsHLCIDdWUb7GAEhLanXjoOsGAmoXO2w48YF8vqjU7HgRYOYZRtseBACkJY3O2w58YIoFIVdgeBrro94koEuAkOw5979IpS8qcoYO1ja7mAJQBUbl7vYceMAyaTc6jbx6wZOY5RvseIAHL6o1FmPBgLIS6bnQbDnxiBIzXOh2HPjFvdOUaDYxH9bKNDseYASEtqdTt0HWOr+QIHmEluZm31i45QTlGUanY8COr+QJ9Ak23mfeLgObdrv5xis3z03fT5QxjU7DMN9/CNXbBHnOK1/bTfvDGNRSw13/l0gGMaxms4GvNo9vs7siWvGYnDqUru5alUso1MicmWHP8AlWfe0eEoiqwLgvqLsH46R9PhMdhpWJnYsYhK0zl5UBKhMQJk1E1ZmApZNCUK0JqLN0AcF2DLV2n5spS/NgStwplmQtu5v+8VTJaH5eMP6tT5qubUe/ClTAKreaBfcE0/vd45fhJj0cP29hwJBKld4MQlMw02GDlTVTpagw1KlgU6tJHMArt6ScQZVCDhu6OH72lXe90UkFev0hK2aIjz+zMKnzeZPVKViCiaEGWlakiXLKau9VQKmJdIOgKS+sbZ+Fw6ZcubJw87EoWpdK61poSimlKhLSbhyCTqzx5PZQQJYUnEebYlEwtMUpaUqlFIsFS0khQUCWIuFDho9ztjtFE8IEnGiQyl1BXeSu8UoI+VplIKRWQpTaiqAXiOwJaZ+HSlSzJmywJmbMiemUJq01DQGpCh0URtCMV2CpM+aju53cIkzZiVspnThzNQStmKe8HvFo14Ht6QMTNrUe4VLllK6XoxEqSJSSE6so95LPRQOgjFiu2EqxM1fezO5XInIS5VSVKw6pSBRsO8IGnXSAbiMHh++nYRKV97LRMAn94TXPkoUtYMpqRLUUKQNw6SSYZ2p2dhwvGSkS5krzZJWmcqapSVFBCRLWFBnXUwpL1NqHhOKxEjzidjEzg8xM1SZDHvRPnS1IKVOKQhClqVVUXCQAHNtp7ckzsVik4ifMVgZvq1VKSGKVSylGqFMlaQWGraEwHndt9lplSJBSpXehk4hy4TNWhM6WkAaChRHjKXzDZUrDrw9acOe9ViE4YHv101LTUFs37zW0hWL7eTiE4kTpUpBmtOQUJVUqfLWaUqNRsZS5yXbUiEy8ciXIpQSZiMYnEJTpkSg+1oDUwaC9G5OCwsybNw0tK0qlldM3vCTOMogTQuWQyQpIWU0tSwd4f/AP56Ue1fNapnmriZU+fzdtH/AHqvk35EZ5GIwsqfMxSZ4WmYpfdywFCYjviAvvQUsKEFehNRAaNZ7ckeuCaxi6ApjfAmd52Ff5qiRTqxgjzl9kJThp6qld9UtUsVZfNpK0y5lQ3USp34lqjLgpUtMhU+akzQJgkoQFlCSsgrUpak5mCQGA1Ko9ZflDI85Ce7lqwwSZSppQrvTLnOZ6xf9+bMIFOgEePgVS1YZWGXNTLPeibLWt+7UQky1pUUpJQ6aVAkbEWgstWO7NSqUJ2ETOW8wpUllL7o92lRlkgZmWSy9w3Eejg+xxLxGIlha0fJIkSiTm86xMqoJJIsCy0kWLLAePN7TxspMkScNMmOmYoqUCpHeq7pIVMAPqpKwQE8AFrxu7X8pUDu1YdKJqqkzlqmpU6ZyUJloAuNBLJf/FBHzKHy5msLPpF3dWbnfrGztoyDMXMkqKguaVJltSyFCt6jay1KQ2uV94SqRK7yakTnQlClJXSflFgAhFOqXU6XNgzxVILsM2536COq+QavQZN3uvf6xccodNIsdTuOkdX8gW8wktzM+8XAc27XCvOMVb56bt9YYxqCmFudvCNfbCR5zir/AD03Y/SGMSkhhm52PSAaoKq9X7Okep+pCAXWbVEnumHybVte71inljHk0irX7DxEc0l5hN07k2DsPc5+MB6WL7JKEVhVTJJGRnpUygS5pdw3N4I9jq72gqYGWVuUhwa+7pYG+YP4R5ShYCosQHF2LEkON9TBFRqJ7wuxDuXA4fjpAeynsEkDOr11Oe7ASUpANg71Fl68BwGMMR2CCsMo6JpdIACiA1Z10vYNtsY8ErNP7VVze6r20PMESSUvMUbDdW7P8YD0B2SqlKgSAtaECqXSQFkgKpe7FCrWfaGJ7DUpKSJgZnVkchKgClmNySUpbkx5IUSFPMUd7lRu+t9+sCo2TnNnbWzFw3DG8B7U3sVQIUCae6XMUaHVlALNsohQFJ3BgldgsHK2DS1fs/pCUCxNlVOSDoCI8is1n5RTuTqr1mObx6wsE0kd4WqB3Z2N25sPhAetjexVy0ldQNANWRroBWSP8JZgesUvsdQJBUQ8ozGEsFTBQSUhIOYupJ10fePLUr1R3ivVAZ1MUglh4DiLCi5PeKcAgFy4GjA7BthAe3M7ALJSFALKmNnBKrpfSkAAvCZ/ZKggzASQgKN0U1FJAU17dDdw2keTMSyQO8cXZiSADqOj7iCCjV+0Vel7nMws/MDbD0J/ZBRLUsLdkktQwdOZQN7BrA7mHDsM0A1agkZGOW68upN2DtcGPFTooVlizi7Fi4cbxalFh8or4q9n1fhtxAe1J7EJqUSdQx7tiykgnKdTmSGezGF4HssKlkrNJ70yybUpSHfEG37NOhHWPMrNb94pw7XVZwXbjUwtKRSc3A30u48OkA/FSymYUhJASWYgPY723198LZTqtsdusCQHTm2GxiUh1ZtjseYCyFN6u528I6r5Bv5jJ8V/eLjk5SGGbc7HpHV/IEegSd7zPvFxBzTtcjznFW+emb/WGMalJpFud/CN/a9XnOJY/PTdx9IYxmphfncdIoqoVafb0gUrSxtuN/GGmqrX7RxFSkrVlDkkhgGJNjpBCyoZbbc9TBFQqVbneLJVa/2jkxZKnN+dxALrTTpvz0ggtNSbcbxeanXfkcQQqdN+NxBSkLDG329YNQFAVbUhnv4txtEQFlwLksAHGpMWtx7TgE3BDkDcQRVQqNud+kAFJY23G/jD5iVBZDg63cXDWMLBUxvuNx1gBUoZbbc9TFhaXVbY7wRqtfbkcmIKnVfncQUuoU6bnfoIMLFQtxv0ER1U67nccCCFVQvxuOBAKSoMbcb9YilpYW53gwF0k7HTRixux6RFVML87iCKKhUbc79IELTSbbjfxhpqqN+dxxA5qTfcbiChqS6bbDeLqS6rbHfrBZst9huImZ1X53HMAsqSwtud+gjq3kEr0GSw3X94uOWKqbXc7jpHVPIMnzGU/K/vFxEc17YA85xVz+2mbfWHrGJQTSLnfbw6xt7YPpOJyg/LTefpDGNRyjLzsekVREJq1Pw6eMRIpTUFEVaEC7XB3cA/yi7lRy7PvoBqYpUwqBJSPZFgWAAIAA4/ODKLQ4C3JuxtcEkm99736GKIS6rnfb84vvCBYWIY66O/5xa0EKUCjZ/cbg63eBBbJp1OvHTxgwE1JudtvzgXy+qNeDx4wQVmTl45gqpaRSpQJDMNLueLwCkpYXO+35w2osQUM2zHUkO/OkAo2GXnYxAwS0uouXF2YeqQzi/LfGFAJp1Oo26HrDCc5y88vpEmppcUghwQWN0kEgwAKCctzpx1PWLCUuq50O35xCfVyjTryYgN1ZedjFULJp1Op26DrBhIKk6vla2pa28D7PqjU7HgQ2RMpWDQHAtrYkMD7nhCSELJSUOohIdqRa7qOvxhaglhc77fnDMLMpuECzWvcaEe8QCjYZeeYJGBECo3O+3TxgAE0m51G3j1hhVmOUb88QAOU5NxsYNIQl03Og2/OJSM1zoduvjBVerl2HMU91ZdjseYASEsLnU7dB1jq3kE3mMnxX94uOVpuwIAFRcsSwtdo6r5DkHBSiBSHWw4HeKZ+vMRLubdsA+cYnM3y03f60xiUCwzc7+Ea+2SPOcVr+2m8fSGMqSjLUFFLlw4uOPA6e+KGiYcyXGbUvdgHp8HY+4QoOxzbjfxglrCphUXcuTo2mwg8EiSa+9WtApylIqJmeyCALJ1J3swiTJBZe2bbnqYYCtRpd2qZjdtSOoFz7zCLZddORyekGlQCiRUCHILix+EUmA3p9Ya89IZLJC0moFmLPq0BMKSCqkh1baAkOw48IOpOVLF3BOnDJHgzn3wAJcg578v1ilOwzc7xSCljr8RzBJSk0i934sNzpsILEdINmS1JVdQuH12IgJcslKmULEFn2uD8HHufiLSlJKjdw5PgQz/ABI+MKdNJ11HHB6QKv0IvlzDTnqYu7qzc7xc5CQU6kEAg2uCePiPdA5XVrvxBEINPrbnfoIcs3QAoWAKi9yotbwAYfGFyZaSCTUyXJIZ9Aw03JAgQ1Q1244HSHRN5UkFjm436wycXQjMHAINzdjY9Sxb3QpNLHXbfrDJUtKmTdyFU6XULge/SEFXKXqObnfpFISohgpySAL6k6CI6ajrvxxF4d7qRU6GmOGdIT7XuLfERJVJiFJVSospJpUkliFAsQRyDaKvmzbHfrDMSoqUlcyoqmATKiQSuokFRbdwYCWE5yXYA7hyTo1ujnw6wJRdkJzAkkkl9NGT15PiI6p5Bf3GTd/X3+sXHJzTSNdTx0jq3kEPQZLOzzPvFwLOcdrhXnGJy/PTPZ+sMZpoNCAEublRp9osydNAPiSY1dpoT5xiyohhNm2u5UZhCfduegjz1JDC4356dIvRNzCFVer/ALRxDsYlIZKADSlNSwHC5hcqI/whwkf5X3ipMlHyi1K9VLJToVTVBk/+KQFKP+UDeMyUhjcajY9YitU5jLlkJaYHSsU2UHJTMBbXVJHQHeFELdWXn2fyiYdSErlqUK0pIKk3uHIsdjx1ESegCYtptYBUy75hsdLFtuXguByCoClScqjd0tpooW1GnvgSFVDIwtanTppALRkBKnJUWdzYa/b/AAMMmLqoBU5SwcvdOz9Rzw3EVnF7wBKFgHL/ALevheIUrCXpbUeq2vFuhgBoc1rc8xSwGGbR+f8Aog1g7NUbc+zs38IFSFgEU3CgPVHXpeKKRWb888RFSqkFZIYFKXvcgFki1yzP0gdBJlrLW0S4y6sbtbi/uiFK3U6DoWdLPfwvFTphUUqUty1tQ19Ej2R4Rc1Jdyup0kgkk2diL7g2hhnK5spaQHSxN2puBoHDW0fwIigFVDLx7PQdIUUhtdzzwIMJFQuNueIEftEhTHLx7I58IpYUwy8+z+UChIY5htzzEUkMLjfn8ILLRMkrSXKcpDhVNi40dtekXK7xMqYO6LLpBVQzJBrYWYuUp+HWEUis3G/PENnrQZUpCT6gJUWN5iySfEBISAekTEpkymatMpIlOEOEqotmVUUlTMAC596oX3CypdCCoBw4Q73HAg5agiWpBNpiUsOFIW6Vn3FaW/xRlpDqzbHnmCZkxMuYQwQSXNgh+NgI6r5CgjAygoMXW4IYj5Re0cmUgUjNueekdW8gU+gSbveZ94uErlzftwpGJxIAcd7McuznvLsOH/hGFSgwyuXLAEuTawtvHrduYKemdiZhQQgzpjKJDGqYW3e8Yu4X3XeFaRdkpqBUtTscoLoAAUajY2A1hfqq8fKTLnFANRTlUXt3gHygS2qQqz7s8ZQRSbbjfxhuar8xxAipjfccdYKpUwMA2rHXglh9p+MPw6JaxMGk0F0OostJspHRQsocgKgJylEgiw4caOw+yIe8FRBbUAuNeNeISVSSSltHzc6210hkuYApJAuKWv8Ay3huMSAxlnIoBQBIKkFmUhXUKBY7gpO8LFVSfdxCEApSM1KWFmBOnTwB3gVFLC3O8Ow6jmCjYixs6VAuD4bHxhedhzfcRUjGDJaQpZ2ABKlPZKQLnrwBuSIWibkKWcOGD6G5ccEw6ckhZCVOADdwxU12H7r6PCklbODeoNp1gscgKhlttz1MHLAUpQA2UQCWBO4D2B/CCmKUSCLA3ZxZyYplOr38RCQAOGpu5tVwBvpBsywCm9t+g4gSVU678jgQYqqHFuOkVMgKaQXTx7T79IuahkglNr+0D/CIipjfjjmIamHv4gZOw2GrmJSwAUoJqqFgbE34F/dCzQqsoDSwo0uq9N6RyToPfDJchSu9U4AQlzpcqNKUjqXJ8EmEipurjcRAzCTkJmSlLS6QpNQNwUOyg3gS0JNIKwLgOAX1D2PRxBkqy32G4h+LlNSUmypQUzgst6Vj/wCkkjoRDqrIVBtNzv0EdX8gSPMJLcr+8XHLQlZAA5O4AAYXPSOpeQZPmMq+8z7xcUnGXNO2ZYGJxJLg99M227w9YxqSlhfnbw6xu7ZU+IxIZ2nTefpD1jJNZkkAEF9XcGzg3gtuFECrU/Dp4xUsJpU54AtobudeP4wROb1R9vHjEmJAcUj2X11Yvvs8COQFIy3OnHU9YNRDkPoFbcm++unwiIWAUmkFg++rlt+bxRN1ZRve9/tgljcDIQs0KVSVPQqwSJjZQu/qn1X2JEKSBUm522/OB9n1Rr148Y1KkCiXMSzvQtJ1SrVJH+BSfgQocRBlQAxufh18YKYUUJDEKu6tiNrPr16CKQqxyj7efGKUbDKN+fxikwIgVG5326eMCwpNzqNuh6wZOc5Rvzx4xJcpSkLIQ4Qylm7JSTSCS+pJAA1MQUVpISly4vpsdQb8gfEwIKalB732/ONS8cpQly1JSJSQMiQw3FT6ldySSdT4RBjpoSqVVkYilrEP8bwyvRjWUgXU1zt0HWDJSFJc8bdPGH4bHTJaWlmkFTkAalgHvEw+KWhdSDSSACQNtd4DMkppJe1tuvjEdJSGPO35w9OKXUZvt2NW76PxpFYrFLmUqXmIcBwdH6QuLLgaqCJjkWDLodL6vYlQ+MJAFOp1G3j1jRicUuZMqWaiAwJ2SBYACwGvxhD5TlGo569YQJSHTc6Db84ajDiiZMCvVWEKFP74UUqd+UEN1ELJ9XKNBz+MMw0tS1KloF1BRZyAqh1trcsC3XxhKFqSyQXLKJ21AZ7Po/8ACOqeQIHmEnxmbfWLjlSpjpGUWsNdLdY6t5BH0GT4zPvFxVlzrteRM84xLJX+2mNZX0h4EZE4WaR6q3AJ0VfS2nDx1PEzDWu59dX8TB4fCzZgdAUpyQkDVZAKlU80hP8AIOY6b5SuZtFHf6d38Tp0x7qtTt9uWJw00qOVbAE6K48OYWnDzWOVeo2V16R08TCdz+B/kYnfH94/GJ8rV+Hf6a+Gp/6dvtzNcmZSgBC9yo0q5sNNAP4xXm81zlXvsr8I6b3p5MWJh5MPlqvw7/R8LT+fZywpUAxLEG4JYi24OkFLatFayE5aim5CbOQN+W6Rr8oSPOZ7v+1P/wDI5jCKak67cR29FXupirmHSV0+2qaeJsbPkLlqXLUoOks4U4IdwoHghiPGFKdhm53huFwyVS5pS9UsBRRzKJZSw37pIccF9oTQDSEpUokskC5UokAAAaknaNMtEiQuZNCEEEqdszAAJJUok2SkAEknQCAE5Zld3WKAuvXVZBS5OqmFg+jltTBzwZUybKC3cUTCggpU2amrcBQDtYlO4jM6aTrqOOsNwZCsubbnqYNQNyFfvAirQg2PgQfsMKNOXXTpyYOUgKUoXdjxc8e+KRnAbt62/PQQYeoZuN+ghQppGuvTgQYpqGu3HAgKRUxzcb9Yi6mGbneBRSx10HHMRdLDXfiAaXqObnfpACpvW3G/jFlqjrvxxAJKaTY6jiAMu6c3G8Mw2IVLXWFJJS5Dl0v1GhGusJJS6ddBxBLUkgpvYF9LkkP9gEQhFy1JFJJBBLgkgiw58ftjqnkEPQZN3vM3+sXHLsbiRNIUQQqlKVXdyhKUVeJCQW5eOo+QJHmEln1mfeLgi8V66/8AOr+Jj6PsrttAlS0imWuUqs1HVIQpGRRsfW0N0uSymjHP7DJWo95qon1eS/70L/UJ+kH/AMf8o87p6evp1TNNPh6jVr9PrURFVXaf8Km9pgrnLAUkzUBDoLBvbUUq9pQDdHJ1MEntdIIIkgEJQhtU0S1haLH2mBD+Bhn6hP0v+3/lE/UJ+l/2/wDKJ7PUXvbwvu9La1/IJPbCUqSe5ehcxYzXPeghYURs5Szfux52ImVrUu+ZRVfW97taPT/UJ+l/2/8AKIOwT9L/ALf+UYr0teuLTHhujW9NRN4q8uS+UAPnE/L84dv8IjEkKqTl49mPvu1f0fqmTZkzzoCtdTd07WbXvA+kZR+jhTj0sWb5nj/2R6PSxRTE8Q8vrTE6lUxzPl8Smpjlu1rNvGrEyzKoVLmhZKSp0JKTLqDUqOy/WBAdubx9Z/ZuoD+9i/1P9SKP6N1M3nY/0f6kbcb42k1EU2Y+z0gAFMcu49nxj7f+zhTv52N/mejfSRX9m6mbzsag/sf6kC74khWXLt+71MEynVl59mPtP7N1W9LFvqf6kQfo4U59LF3+Z/qQHxcxCgBbW/q8j8XHuiwFVDLx7PQR9of0cKZvOwwJb5Hn/wBkT+zhTj0sbfM/1IXV8QkKY5ePZ6xFBTDLz7MfbD9G6mPpY/0f6kUf0bqYelj/AEf6kLo+MIVUcvPs9IEJU3q7j2Y+3/s4U5PnY/0f6kCP0cKZvOxr9D/UgPjpaTUl02Zzl1a7e/SAZWbLsfZ6x9sf0bqsfOx/o8f+yK/s4Vf0sX+p/qRVu+QKnkhNGdM1ShlsULSkLB4IUhJHNauI6d5Bv5jJs117fWLjy+zP0ZhaqF4lwoKZpTFKrGr9peySGPMfW+TfYPm+HRJ7yqkquUsTUtStH6t7ozdH/9k=\" width=\"200\">\n",
    "<br>\n",
    "<a href=\"https://www.google.com/search?q=uma+senhora+toma+ch%C3%A1&oq=uma+senhora+toma+ch%C3%A1&aqs=chrome..69i57j0l3j69i60l2.5826j0j4&sourceid=chrome&ie=UTF-8\">Uma Senhora Toma Chá</a>\n",
    "<br><br><br>\n",
    "<img src=\"data:image/jpeg;base64,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\" width=\"200\">\n",
    "<br>\n",
    "<a href=\"https://www.google.com/search?ei=REVvXbGYBdSv5OUP5cm2sAI&q=o+andar+do+b%C3%AAbado&oq=o+andar+do+&gs_l=psy-ab.3.0.0l10.65372.67180..69420...0.1..0.133.1055.10j1......0....1..gws-wiz.......0i71j0i131j0i67j0i10.3SEaoN4QcAU\">O Andar do Bêbado</a>"
   ]
  },
  {
   "cell_type": "code",
   "execution_count": null,
   "metadata": {},
   "outputs": [],
   "source": []
  }
 ],
 "metadata": {
  "hide_input": false,
  "kernelspec": {
   "display_name": "Python 3",
   "language": "python",
   "name": "python3"
  },
  "language_info": {
   "codemirror_mode": {
    "name": "ipython",
    "version": 3
   },
   "file_extension": ".py",
   "mimetype": "text/x-python",
   "name": "python",
   "nbconvert_exporter": "python",
   "pygments_lexer": "ipython3",
   "version": "3.7.3"
  },
  "latex_envs": {
   "LaTeX_envs_menu_present": true,
   "autoclose": false,
   "autocomplete": true,
   "bibliofile": "biblio.bib",
   "cite_by": "apalike",
   "current_citInitial": 1,
   "eqLabelWithNumbers": true,
   "eqNumInitial": 1,
   "hotkeys": {
    "equation": "Ctrl-E",
    "itemize": "Ctrl-I"
   },
   "labels_anchors": false,
   "latex_user_defs": false,
   "report_style_numbering": false,
   "user_envs_cfg": false
  },
  "toc": {
   "base_numbering": 1,
   "nav_menu": {
    "height": "417px",
    "width": "637px"
   },
   "number_sections": true,
   "sideBar": true,
   "skip_h1_title": true,
   "title_cell": "Table of Contents",
   "title_sidebar": "Contents",
   "toc_cell": true,
   "toc_position": {
    "height": "calc(100% - 180px)",
    "left": "10px",
    "top": "150px",
    "width": "165px"
   },
   "toc_section_display": true,
   "toc_window_display": true
  },
  "varInspector": {
   "cols": {
    "lenName": 16,
    "lenType": 16,
    "lenVar": 40
   },
   "kernels_config": {
    "python": {
     "delete_cmd_postfix": "",
     "delete_cmd_prefix": "del ",
     "library": "var_list.py",
     "varRefreshCmd": "print(var_dic_list())"
    },
    "r": {
     "delete_cmd_postfix": ") ",
     "delete_cmd_prefix": "rm(",
     "library": "var_list.r",
     "varRefreshCmd": "cat(var_dic_list()) "
    }
   },
   "types_to_exclude": [
    "module",
    "function",
    "builtin_function_or_method",
    "instance",
    "_Feature"
   ],
   "window_display": false
  },
  "widgets": {
   "application/vnd.jupyter.widget-state+json": {
    "state": {},
    "version_major": 2,
    "version_minor": 0
   }
  }
 },
 "nbformat": 4,
 "nbformat_minor": 2
}
